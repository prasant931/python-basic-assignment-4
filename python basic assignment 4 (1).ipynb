{
 "cells": [
  {
   "cell_type": "code",
   "execution_count": null,
   "id": "ff81baf6",
   "metadata": {},
   "outputs": [],
   "source": [
    "1. What exactly is []?\n",
    "1 ANS) The empty sqaure brackets [] represent a list.Just like how ' ' represents strings. \n",
    "        eg. l=['prasant',21,9*2,[rohit,45]]\n",
    "    "
   ]
  },
  {
   "cell_type": "code",
   "execution_count": null,
   "id": "96a81e19",
   "metadata": {},
   "outputs": [],
   "source": [
    "2. In a list of values stored in a variable called spam, how would you assign the value 'hello' as the \n",
    "third value? (Assume [2, 4, 6, 8, 10] are in spam.)\n"
   ]
  },
  {
   "cell_type": "code",
   "execution_count": 2,
   "id": "6441319e",
   "metadata": {},
   "outputs": [
    {
     "name": "stdout",
     "output_type": "stream",
     "text": [
      "[2, 4, 6, 8, 10]\n",
      "[2, 4, 'hello', 8, 10]\n"
     ]
    }
   ],
   "source": [
    "#2 ans)\n",
    "spam = [2, 4, 6, 8, 10]\n",
    "print(spam)\n",
    "spam[2] = 'hello'\n",
    "print(spam)"
   ]
  },
  {
   "cell_type": "code",
   "execution_count": null,
   "id": "a15d944a",
   "metadata": {},
   "outputs": [],
   "source": [
    "3. What is the value of spam[int(int('3' * 2) / 11)]?  (Lets pretend the spam includes the list ['a','b', 'c', 'd'] for the next three queries.)"
   ]
  },
  {
   "cell_type": "code",
   "execution_count": null,
   "id": "5067c652",
   "metadata": {},
   "outputs": [],
   "source": [
    "#3 ans)\n",
    "\n",
    "3'**2 will give '33'\n",
    "int('33') will be 33\n",
    "33/11 will be 3.0\n",
    "int(3.0) will give 3\n",
    "spam[3] will be value at index 3 that is 'd'"
   ]
  },
  {
   "cell_type": "code",
   "execution_count": 8,
   "id": "c252ef83",
   "metadata": {},
   "outputs": [],
   "source": [
    "#3 ans) example \n",
    "spam = ['a', 'b', 'c', 'd']\n"
   ]
  },
  {
   "cell_type": "code",
   "execution_count": 9,
   "id": "19234cf9",
   "metadata": {},
   "outputs": [
    {
     "data": {
      "text/plain": [
       "'d'"
      ]
     },
     "execution_count": 9,
     "metadata": {},
     "output_type": "execute_result"
    }
   ],
   "source": [
    "spam[int(int('3'*2)/11)]"
   ]
  },
  {
   "cell_type": "code",
   "execution_count": null,
   "id": "77e3787e",
   "metadata": {},
   "outputs": [],
   "source": [
    "4. What is the value of spam[-1]? \n",
    "\n",
    "4 ans)spam[-1] = last value of list  'd'"
   ]
  },
  {
   "cell_type": "code",
   "execution_count": 10,
   "id": "03c46122",
   "metadata": {},
   "outputs": [
    {
     "data": {
      "text/plain": [
       "'d'"
      ]
     },
     "execution_count": 10,
     "metadata": {},
     "output_type": "execute_result"
    }
   ],
   "source": [
    "#4 ans)\n",
    "spam[-1]"
   ]
  },
  {
   "cell_type": "code",
   "execution_count": null,
   "id": "a14cb4ab",
   "metadata": {},
   "outputs": [],
   "source": [
    "5. What is the value of spam[:2]?\n",
    "5 ans)spam[:2] = 'a' and 'b'"
   ]
  },
  {
   "cell_type": "code",
   "execution_count": 11,
   "id": "da575acc",
   "metadata": {},
   "outputs": [
    {
     "data": {
      "text/plain": [
       "['a', 'b']"
      ]
     },
     "execution_count": 11,
     "metadata": {},
     "output_type": "execute_result"
    }
   ],
   "source": [
    "#5 ans\n",
    "spam[:2]"
   ]
  },
  {
   "cell_type": "code",
   "execution_count": null,
   "id": "af8cba33",
   "metadata": {},
   "outputs": [],
   "source": [
    "#Let&#39;s pretend bacon has the list [3.14, 'cat', '11, 'cat', True] for the next three questions."
   ]
  },
  {
   "cell_type": "code",
   "execution_count": null,
   "id": "b8e9da21",
   "metadata": {},
   "outputs": [],
   "source": [
    "6. What is the value of bacon.index('cat')?\n",
    "6 ans)index of first occurence of 'cat' value is 1 "
   ]
  },
  {
   "cell_type": "code",
   "execution_count": 12,
   "id": "6e676290",
   "metadata": {},
   "outputs": [],
   "source": [
    "#6 ans \n",
    "bacon=[3.14,'cat','11','cat',True]"
   ]
  },
  {
   "cell_type": "code",
   "execution_count": 13,
   "id": "6b59c3bb",
   "metadata": {},
   "outputs": [
    {
     "data": {
      "text/plain": [
       "1"
      ]
     },
     "execution_count": 13,
     "metadata": {},
     "output_type": "execute_result"
    }
   ],
   "source": [
    "bacon.index('cat')"
   ]
  },
  {
   "cell_type": "code",
   "execution_count": null,
   "id": "712bae4d",
   "metadata": {},
   "outputs": [],
   "source": [
    "7. How does bacon.append(99) change the look of the list value in bacon?\n",
    "7 ans)It will append or add the value  99 at the end of list bacon"
   ]
  },
  {
   "cell_type": "code",
   "execution_count": 28,
   "id": "7c743c3c",
   "metadata": {},
   "outputs": [],
   "source": [
    "#7 ans \n",
    "bacon.append(99)\n"
   ]
  },
  {
   "cell_type": "code",
   "execution_count": 29,
   "id": "a354b097",
   "metadata": {},
   "outputs": [
    {
     "data": {
      "text/plain": [
       "[3.14, 'cat', '11', 'cat', True, 99]"
      ]
     },
     "execution_count": 29,
     "metadata": {},
     "output_type": "execute_result"
    }
   ],
   "source": [
    "bacon"
   ]
  },
  {
   "cell_type": "code",
   "execution_count": null,
   "id": "4118bc13",
   "metadata": {},
   "outputs": [],
   "source": [
    "8. How does bacon.remove ('cat') change the look of the list in bacon?\n",
    "8 ans)This will remove the first occured string named 'cat' from the list bacon "
   ]
  },
  {
   "cell_type": "code",
   "execution_count": 31,
   "id": "4beb1395",
   "metadata": {},
   "outputs": [],
   "source": [
    "#8 ans\n",
    "bacon.remove('cat')"
   ]
  },
  {
   "cell_type": "code",
   "execution_count": 32,
   "id": "4b176d54",
   "metadata": {},
   "outputs": [
    {
     "data": {
      "text/plain": [
       "[3.14, '11', 'cat', True, 99]"
      ]
     },
     "execution_count": 32,
     "metadata": {},
     "output_type": "execute_result"
    }
   ],
   "source": [
    "bacon"
   ]
  },
  {
   "cell_type": "code",
   "execution_count": null,
   "id": "9b1e7cb8",
   "metadata": {},
   "outputs": [],
   "source": [
    "9. What are the list concatenation and list replication operators?\n",
    "9 ans)List concatenation operator is ‘+’ while list replication operator is ‘*’"
   ]
  },
  {
   "cell_type": "code",
   "execution_count": null,
   "id": "9a84aeef",
   "metadata": {},
   "outputs": [],
   "source": [
    "10. What is difference between the list methods append() and insert()?\n",
    "10 ans)Append method appends/includes/add the given object to the end of the list always.\n",
    "       Insert method accepts two arguments, index at which the element needs to be inserted and the object to insert."
   ]
  },
  {
   "cell_type": "code",
   "execution_count": null,
   "id": "b67d27d0",
   "metadata": {},
   "outputs": [],
   "source": [
    "11. What are the two methods for removing items from a list?\n",
    "11 ans)Two methods used for removing items from a list :\n",
    "\n",
    "List.remove(object)  : Removes the first occurrence of the given object from the list\n",
    "List.pop(index = -1) : Removes and returns item at the index (default is -1, the last element)"
   ]
  },
  {
   "cell_type": "code",
   "execution_count": null,
   "id": "d373ae1b",
   "metadata": {},
   "outputs": [],
   "source": [
    "12. Describe how list values and string values are identical.\n",
    "12 ans) list is a collection of values in Python, string is a collection of characters. Both list and strings are iterable in Python and for loop can be used around a list or string object to iterate through each element in the list/string."
   ]
  },
  {
   "cell_type": "code",
   "execution_count": null,
   "id": "4f4480f9",
   "metadata": {},
   "outputs": [],
   "source": [
    "13. Whats the difference between tuples and lists?\n",
    "13 ans)Tuples are immutable where as lists in Python are mutable. So once created, the items inside a tuple cannot be changed."
   ]
  },
  {
   "cell_type": "code",
   "execution_count": null,
   "id": "7734f11d",
   "metadata": {},
   "outputs": [],
   "source": [
    "14. How do you type a tuple value that only contains the integer 42?\n",
    "14 ans)"
   ]
  },
  {
   "cell_type": "code",
   "execution_count": 33,
   "id": "3aa5be27",
   "metadata": {},
   "outputs": [
    {
     "data": {
      "text/plain": [
       "(32,)"
      ]
     },
     "execution_count": 33,
     "metadata": {},
     "output_type": "execute_result"
    }
   ],
   "source": [
    "#14 ans \n",
    "tup = tuple([32])\n",
    "tup"
   ]
  },
  {
   "cell_type": "code",
   "execution_count": null,
   "id": "dbc1f54b",
   "metadata": {},
   "outputs": [],
   "source": [
    "15. How do you get a list values tuple form? How do you get a tuple values list form?\n",
    "15 ans) \n",
    "          By using type casting\n",
    "\n",
    "            b = tuple([42, 3, 5])\n",
    "            type(b) # tuple\n",
    "            c = list(b)\n",
    "            type(c) # list"
   ]
  },
  {
   "cell_type": "code",
   "execution_count": 34,
   "id": "b8bf8966",
   "metadata": {},
   "outputs": [
    {
     "data": {
      "text/plain": [
       "list"
      ]
     },
     "execution_count": 34,
     "metadata": {},
     "output_type": "execute_result"
    }
   ],
   "source": [
    "#15 ans\n",
    "b = tuple([42, 3, 5])\n",
    "type(b)  # tuple\n",
    "c = list(b)\n",
    "type(c) # list"
   ]
  },
  {
   "cell_type": "code",
   "execution_count": null,
   "id": "6c1dc6e0",
   "metadata": {},
   "outputs": [],
   "source": [
    "16. Variables that \"contain\" list values are not necessarily lists themselves. Instead, what do they\n",
    "contain?\n",
    "16 ans) They contain references to the list values"
   ]
  },
  {
   "cell_type": "code",
   "execution_count": null,
   "id": "ef23e5fe",
   "metadata": {},
   "outputs": [],
   "source": [
    "17. How do you distinguish between copy.copy() and copy.deepcopy()?\n",
    "17 ans)\n",
    "\n",
    "        -copy() returns a shallow copy of list and deepcopy() return a deep copy of list.\n",
    "        -deepcopy: In case of deep copy, a copy of object is copied in other object. It means that any changes made to a copy of object do not reflect in the original object.\n",
    "        -shallow copy: In case of shallow copy, a reference of object is copied in other object. It means that any changes made to a copy of object do reflect in the original object.\n",
    " "
   ]
  },
  {
   "cell_type": "code",
   "execution_count": null,
   "id": "7753ad38",
   "metadata": {},
   "outputs": [],
   "source": []
  },
  {
   "cell_type": "code",
   "execution_count": null,
   "id": "57866b69",
   "metadata": {},
   "outputs": [],
   "source": []
  }
 ],
 "metadata": {
  "kernelspec": {
   "display_name": "Python 3",
   "language": "python",
   "name": "python3"
  },
  "language_info": {
   "codemirror_mode": {
    "name": "ipython",
    "version": 3
   },
   "file_extension": ".py",
   "mimetype": "text/x-python",
   "name": "python",
   "nbconvert_exporter": "python",
   "pygments_lexer": "ipython3",
   "version": "3.8.8"
  }
 },
 "nbformat": 4,
 "nbformat_minor": 5
}
